{
 "cells": [
  {
   "cell_type": "markdown",
   "metadata": {
    "slideshow": {
     "slide_type": "slide"
    }
   },
   "source": [
    "<img src="https://brand.umich.edu/assets/brand/style-guide/logo-guidelines/U-M_Logo-Horizontal-Hex.png" width="400" align="left"/><br>\n",
    "\n",
    "## Welcome to SIADS 505: Data manipulation 😀 \n",
    "\n",
    "**Instructor:**  Quan Nguyen, PhD., Research Fellow in Educational Data Science,\n",
    "School of Information, University of Michigan\n",
    "\n",
    "**Office hours:** Please check your Coursera events calendar. \n",
    "* My office hours are on Tuesday 9-10am EST and Friday 4-5pm EST\n",
    "\n",
    "**Communication:** \n",
    "* Please use the Slack channel\n",
    "* For technical issues (e.g., Coursera, Jupyter), please email umsimadshelp@umich.edu"
   ]
  },
  {
   "cell_type": "markdown",
   "metadata": {
    "slideshow": {
     "slide_type": "slide"
    }
   },
   "source": [
    "### Week 1: regex \n",
    "* Using basic regex \n",
    "* Lookahead, lookbehind, backreferencing with groups, replace string\n",
    "\n",
    "Feel free to type your questions in the Zoom chat or raise your hand throughout the tutorial."
   ]
  },
  {
   "cell_type": "markdown",
   "metadata": {
    "slideshow": {
     "slide_type": "fragment"
    }
   },
   "source": [
    "**Some useful resources on Regex**\n",
    "* How to regex https://docs.python.org/3/howto/regex.html\n",
    "* Regex library in python: https://docs.python.org/3/library/re.html\n",
    "* Play around, test your regex: https://regex101.com/\n",
    "\n",
    "P/S: The [RISE extension](https://rise.readthedocs.io/en/stable/) that I am using to convert notebook into a slide deck is developed by our talented UMSI MADS software developer: Damián Avila "
   ]
  },
  {
   "cell_type": "markdown",
   "metadata": {
    "slideshow": {
     "slide_type": "-"
    }
   },
   "source": [
    "### Let's get started"
   ]
  },
  {
   "cell_type": "markdown",
   "metadata": {
    "slideshow": {
     "slide_type": "slide"
    }
   },
   "source": [
    "**Load the text file**"
   ]
  },
  {
   "cell_type": "code",
   "execution_count": 49,
   "metadata": {
    "slideshow": {
     "slide_type": "-"
    }
   },
   "outputs": [
    {
     "name": "stdout",
     "output_type": "stream",
     "text": [
      "Ronald Mayr: A 505-345-5816 rmay@gmail.com 1989-04-20\n",
      "Bell Kassulke: B 734-325-5816 bkassulke@umich.edu 1990/03/20\n",
      "Jacqueline Rupp: A 734-851-2281 jrupp@fancy.org 1978-05-11\n",
      "Alexander Zeller: C 853-395-1492 azller@samsung.co.kr 1985-10-30\n",
      "Valentina Denk: C 492.333.1932 vdenk@weird-email.com 1993-01-02\n",
      "Lola-Rose Coates: C 593*492*3212 lr-coates@something.net 1992-08-15\n"
     ]
    }
   ],
   "source": [
    "text =\"\"\"Ronald Mayr: A 505-345-5816 rmay@gmail.com 1989-04-20\n",
    "Bell Kassulke: B 734-325-5816 bkassulke@umich.edu 1990/03/20\n",
    "Jacqueline Rupp: A 734-851-2281 jrupp@fancy.org 1978-05-11\n",
    "Alexander Zeller: C 853-395-1492 azller@samsung.co.kr 1985-10-30\n",
    "Valentina Denk: C 492.333.1932 vdenk@weird-email.com 1993-01-02\n",
    "Lola-Rose Coates: C 593*492*3212 lr-coates@something.net 1992-08-15\"\"\"\n",
    "print(text) "
   ]
  },
  {
   "cell_type": "markdown",
   "metadata": {
    "slideshow": {
     "slide_type": "slide"
    }
   },
   "source": [
    "**Extract names**"
   ]
  },
  {
   "cell_type": "code",
   "execution_count": 50,
   "metadata": {},
   "outputs": [
    {
     "name": "stdout",
     "output_type": "stream",
     "text": [
      "Ronald Mayr: A 505-345-5816 rmay@gmail.com 1989-04-20\n",
      "Bell Kassulke: B 734-325-5816 bkassulke@umich.edu 1990/03/20\n",
      "Jacqueline Rupp: A 734-851-2281 jrupp@fancy.org 1978-05-11\n",
      "Alexander Zeller: C 853-395-1492 azller@samsung.co.kr 1985-10-30\n",
      "Valentina Denk: C 492.333.1932 vdenk@weird-email.com 1993-01-02\n",
      "Lola-Rose Coates: C 593*492*3212 lr-coates@something.net 1992-08-15\n"
     ]
    }
   ],
   "source": [
    "print(text) "
   ]
  },
  {
   "cell_type": "code",
   "execution_count": 51,
   "metadata": {
    "slideshow": {
     "slide_type": "fragment"
    }
   },
   "outputs": [
    {
     "data": {
      "text/plain": [
       "['Ronald Mayr',\n",
       " 'Bell Kassulke',\n",
       " 'Jacqueline Rupp',\n",
       " 'Alexander Zeller',\n",
       " 'Valentina Denk',\n",
       " 'Lola-Rose Coates']"
      ]
     },
     "execution_count": 51,
     "metadata": {},
     "output_type": "execute_result"
    }
   ],
   "source": [
    "import re\n",
    "pattern = \"[A-Za-z-]+\\s[A-Za-z-]+\"\n",
    "match_names = re.findall(pattern,text)\n",
    "match_names"
   ]
  },
  {
   "cell_type": "markdown",
   "metadata": {
    "slideshow": {
     "slide_type": "slide"
    }
   },
   "source": [
    "**Extract phone numbers**"
   ]
  },
  {
   "cell_type": "code",
   "execution_count": 53,
   "metadata": {
    "slideshow": {
     "slide_type": "-"
    }
   },
   "outputs": [
    {
     "name": "stdout",
     "output_type": "stream",
     "text": [
      "Ronald Mayr: A 505-345-5816 rmay@gmail.com 1989-04-20\n",
      "Bell Kassulke: B 734-325-5816 bkassulke@umich.edu 1990/03/20\n",
      "Jacqueline Rupp: A 734-851-2281 jrupp@fancy.org 1978-05-11\n",
      "Alexander Zeller: C 853-395-1492 azller@samsung.co.kr 1985-10-30\n",
      "Valentina Denk: C 492.333.1932 vdenk@weird-email.com 1993-01-02\n",
      "Lola-Rose Coates: C 593*492*3212 lr-coates@something.net 1992-08-15\n"
     ]
    }
   ],
   "source": [
    "print(text)"
   ]
  },
  {
   "cell_type": "code",
   "execution_count": 54,
   "metadata": {
    "slideshow": {
     "slide_type": "fragment"
    }
   },
   "outputs": [
    {
     "data": {
      "text/plain": [
       "['505-345-5816',\n",
       " '734-325-5816',\n",
       " '734-851-2281',\n",
       " '853-395-1492',\n",
       " '492.333.1932',\n",
       " '593*492*3212']"
      ]
     },
     "execution_count": 54,
     "metadata": {},
     "output_type": "execute_result"
    }
   ],
   "source": [
    "pattern = \"\\d{3}[.*-]\\d{3}[.*-]\\d{4}\"\n",
    "match_phnumbers = re.findall(pattern,text)\n",
    "match_phnumbers"
   ]
  },
  {
   "cell_type": "markdown",
   "metadata": {
    "slideshow": {
     "slide_type": "slide"
    }
   },
   "source": [
    "**Extract grades**"
   ]
  },
  {
   "cell_type": "code",
   "execution_count": 55,
   "metadata": {},
   "outputs": [
    {
     "name": "stdout",
     "output_type": "stream",
     "text": [
      "Ronald Mayr: A 505-345-5816 rmay@gmail.com 1989-04-20\n",
      "Bell Kassulke: B 734-325-5816 bkassulke@umich.edu 1990/03/20\n",
      "Jacqueline Rupp: A 734-851-2281 jrupp@fancy.org 1978-05-11\n",
      "Alexander Zeller: C 853-395-1492 azller@samsung.co.kr 1985-10-30\n",
      "Valentina Denk: C 492.333.1932 vdenk@weird-email.com 1993-01-02\n",
      "Lola-Rose Coates: C 593*492*3212 lr-coates@something.net 1992-08-15\n"
     ]
    }
   ],
   "source": [
    "print(text)"
   ]
  },
  {
   "cell_type": "code",
   "execution_count": 56,
   "metadata": {
    "slideshow": {
     "slide_type": "fragment"
    }
   },
   "outputs": [
    {
     "data": {
      "text/plain": [
       "['A', 'B', 'A', 'C', 'C', 'C']"
      ]
     },
     "execution_count": 56,
     "metadata": {},
     "output_type": "execute_result"
    }
   ],
   "source": [
    "pattern = \"(?<=:\\s)[A-F]{1}(?=\\s)\"\n",
    "match_grades = re.findall(pattern,text)\n",
    "match_grades"
   ]
  },
  {
   "cell_type": "markdown",
   "metadata": {
    "slideshow": {
     "slide_type": "slide"
    }
   },
   "source": [
    "**Extract emails**"
   ]
  },
  {
   "cell_type": "code",
   "execution_count": 58,
   "metadata": {},
   "outputs": [
    {
     "name": "stdout",
     "output_type": "stream",
     "text": [
      "Ronald Mayr: A 505-345-5816 rmay@gmail.com 1989-04-20\n",
      "Bell Kassulke: B 734-325-5816 bkassulke@umich.edu 1990/03/20\n",
      "Jacqueline Rupp: A 734-851-2281 jrupp@fancy.org 1978-05-11\n",
      "Alexander Zeller: C 853-395-1492 azller@samsung.co.kr 1985-10-30\n",
      "Valentina Denk: C 492.333.1932 vdenk@weird-email.com 1993-01-02\n",
      "Lola-Rose Coates: C 593*492*3212 lr-coates@something.net 1992-08-15\n"
     ]
    }
   ],
   "source": [
    "print(text)"
   ]
  },
  {
   "cell_type": "code",
   "execution_count": 59,
   "metadata": {
    "slideshow": {
     "slide_type": "fragment"
    }
   },
   "outputs": [
    {
     "data": {
      "text/plain": [
       "['rmay@gmail.com',\n",
       " 'bkassulke@umich.edu',\n",
       " 'jrupp@fancy.org',\n",
       " 'azller@samsung.co.kr',\n",
       " 'vdenk@weird-email.com',\n",
       " 'lr-coates@something.net']"
      ]
     },
     "execution_count": 59,
     "metadata": {},
     "output_type": "execute_result"
    }
   ],
   "source": [
    "pattern = \"\\w+?-?\\w+@\\w+.\\w+.[a-z]+\"\n",
    "match_emails = re.findall(pattern,text)\n",
    "match_emails"
   ]
  },
  {
   "cell_type": "markdown",
   "metadata": {
    "slideshow": {
     "slide_type": "slide"
    }
   },
   "source": [
    "**Extract birthday**"
   ]
  },
  {
   "cell_type": "code",
   "execution_count": 60,
   "metadata": {},
   "outputs": [
    {
     "name": "stdout",
     "output_type": "stream",
     "text": [
      "Ronald Mayr: A 505-345-5816 rmay@gmail.com 1989-04-20\n",
      "Bell Kassulke: B 734-325-5816 bkassulke@umich.edu 1990/03/20\n",
      "Jacqueline Rupp: A 734-851-2281 jrupp@fancy.org 1978-05-11\n",
      "Alexander Zeller: C 853-395-1492 azller@samsung.co.kr 1985-10-30\n",
      "Valentina Denk: C 492.333.1932 vdenk@weird-email.com 1993-01-02\n",
      "Lola-Rose Coates: C 593*492*3212 lr-coates@something.net 1992-08-15\n"
     ]
    }
   ],
   "source": [
    "print(text)"
   ]
  },
  {
   "cell_type": "code",
   "execution_count": 61,
   "metadata": {
    "slideshow": {
     "slide_type": "fragment"
    }
   },
   "outputs": [
    {
     "data": {
      "text/plain": [
       "['1989-04-20',\n",
       " '1990/03/20',\n",
       " '1978-05-11',\n",
       " '1985-10-30',\n",
       " '1993-01-02',\n",
       " '1992-08-15']"
      ]
     },
     "execution_count": 61,
     "metadata": {},
     "output_type": "execute_result"
    }
   ],
   "source": [
    "pattern = \"\\d{4}[/-]\\d{2}[/-]\\d{2}\"\n",
    "match_bdays = re.findall(pattern,text)\n",
    "match_bdays"
   ]
  },
  {
   "cell_type": "markdown",
   "metadata": {
    "slideshow": {
     "slide_type": "slide"
    }
   },
   "source": [
    "**Group referencing**\n",
    "\n",
    "* (?!)  negative lookahead\n",
    "* (?=)  positive lookahead\n",
    "* (?<=)  positive lookbehind\n",
    "* (?<!)  negative lookbehind"
   ]
  },
  {
   "cell_type": "markdown",
   "metadata": {
    "slideshow": {
     "slide_type": "fragment"
    }
   },
   "source": [
    "Given the string **foobarbarfoo**\n",
    "* **bar(?=bar)**     finds the 1st bar (\"bar\" which has \"bar\" after it)\n",
    "* **bar(?!bar)**     finds the 2nd bar (\"bar\" which does not have \"bar\" after it)\n",
    "* **(?<=foo)bar**    finds the 1st bar (\"bar\" which has \"foo\" before it)\n",
    "* **(?<!foo)bar**    finds the 2nd bar (\"bar\" which does not have \"foo\" before it)"
   ]
  },
  {
   "cell_type": "markdown",
   "metadata": {
    "slideshow": {
     "slide_type": "slide"
    }
   },
   "source": [
    "**Extract names using lookahead**"
   ]
  },
  {
   "cell_type": "code",
   "execution_count": 62,
   "metadata": {},
   "outputs": [
    {
     "name": "stdout",
     "output_type": "stream",
     "text": [
      "Ronald Mayr: A 505-345-5816 rmay@gmail.com 1989-04-20\n",
      "Bell Kassulke: B 734-325-5816 bkassulke@umich.edu 1990/03/20\n",
      "Jacqueline Rupp: A 734-851-2281 jrupp@fancy.org 1978-05-11\n",
      "Alexander Zeller: C 853-395-1492 azller@samsung.co.kr 1985-10-30\n",
      "Valentina Denk: C 492.333.1932 vdenk@weird-email.com 1993-01-02\n",
      "Lola-Rose Coates: C 593*492*3212 lr-coates@something.net 1992-08-15\n"
     ]
    }
   ],
   "source": [
    "print(text)"
   ]
  },
  {
   "cell_type": "code",
   "execution_count": 63,
   "metadata": {
    "slideshow": {
     "slide_type": "fragment"
    }
   },
   "outputs": [
    {
     "data": {
      "text/plain": [
       "['Ronald Mayr',\n",
       " 'Bell Kassulke',\n",
       " 'Jacqueline Rupp',\n",
       " 'Alexander Zeller',\n",
       " 'Valentina Denk',\n",
       " 'Lola-Rose Coates']"
      ]
     },
     "execution_count": 63,
     "metadata": {},
     "output_type": "execute_result"
    }
   ],
   "source": [
    "# Match all characters before the colon :\n",
    "pattern = \"\"\".+     # match everything\n",
    "             (?=:)  # before the colon\n",
    "          \"\"\"\n",
    "match_names = re.findall(pattern,text,re.VERBOSE)\n",
    "#re.VERBOSE allow us to comment on regex pattern, making the code more readable\n",
    "match_names"
   ]
  },
  {
   "cell_type": "markdown",
   "metadata": {
    "slideshow": {
     "slide_type": "slide"
    }
   },
   "source": [
    "**Extract grades using lookbehind**"
   ]
  },
  {
   "cell_type": "code",
   "execution_count": 65,
   "metadata": {},
   "outputs": [
    {
     "name": "stdout",
     "output_type": "stream",
     "text": [
      "Ronald Mayr: A 505-345-5816 rmay@gmail.com 1989-04-20\n",
      "Bell Kassulke: B 734-325-5816 bkassulke@umich.edu 1990/03/20\n",
      "Jacqueline Rupp: A 734-851-2281 jrupp@fancy.org 1978-05-11\n",
      "Alexander Zeller: C 853-395-1492 azller@samsung.co.kr 1985-10-30\n",
      "Valentina Denk: C 492.333.1932 vdenk@weird-email.com 1993-01-02\n",
      "Lola-Rose Coates: C 593*492*3212 lr-coates@something.net 1992-08-15\n"
     ]
    }
   ],
   "source": [
    "print(text)"
   ]
  },
  {
   "cell_type": "code",
   "execution_count": 64,
   "metadata": {
    "slideshow": {
     "slide_type": "fragment"
    }
   },
   "outputs": [
    {
     "data": {
      "text/plain": [
       "['A', 'B', 'A', 'C', 'C', 'C']"
      ]
     },
     "execution_count": 64,
     "metadata": {},
     "output_type": "execute_result"
    }
   ],
   "source": [
    "pattern = \"\"\"(?<=:\\s)  # After the colon and a space\n",
    "             \\w        # Match a single character\n",
    "          \"\"\"\n",
    "match_grades = re.findall(pattern,text,re.VERBOSE)\n",
    "match_grades"
   ]
  },
  {
   "cell_type": "markdown",
   "metadata": {
    "slideshow": {
     "slide_type": "slide"
    }
   },
   "source": [
    "**Extract usernames using lookahead**"
   ]
  },
  {
   "cell_type": "code",
   "execution_count": 67,
   "metadata": {},
   "outputs": [
    {
     "name": "stdout",
     "output_type": "stream",
     "text": [
      "Ronald Mayr: A 505-345-5816 rmay@gmail.com 1989-04-20\n",
      "Bell Kassulke: B 734-325-5816 bkassulke@umich.edu 1990/03/20\n",
      "Jacqueline Rupp: A 734-851-2281 jrupp@fancy.org 1978-05-11\n",
      "Alexander Zeller: C 853-395-1492 azller@samsung.co.kr 1985-10-30\n",
      "Valentina Denk: C 492.333.1932 vdenk@weird-email.com 1993-01-02\n",
      "Lola-Rose Coates: C 593*492*3212 lr-coates@something.net 1992-08-15\n"
     ]
    }
   ],
   "source": [
    "print(text)"
   ]
  },
  {
   "cell_type": "code",
   "execution_count": 68,
   "metadata": {
    "slideshow": {
     "slide_type": "fragment"
    }
   },
   "outputs": [
    {
     "data": {
      "text/plain": [
       "['rmay', 'bkassulke', 'jrupp', 'azller', 'vdenk', 'lr-coates']"
      ]
     },
     "execution_count": 68,
     "metadata": {},
     "output_type": "execute_result"
    }
   ],
   "source": [
    "pattern = \"\"\" \\w+-?\\w+ # Match all characters with or without hypen\n",
    "              (?=@)    # Before the @ symbol\n",
    "          \"\"\"\n",
    "match_usernames = re.findall(pattern,text,re.VERBOSE)\n",
    "match_usernames"
   ]
  },
  {
   "cell_type": "markdown",
   "metadata": {
    "slideshow": {
     "slide_type": "slide"
    }
   },
   "source": [
    "**Backreference with capture groups**\n",
    "* () captured group\n",
    "* (?:) non-captured group"
   ]
  },
  {
   "cell_type": "code",
   "execution_count": 73,
   "metadata": {
    "slideshow": {
     "slide_type": "fragment"
    }
   },
   "outputs": [
    {
     "data": {
      "text/plain": [
       "['Ronald Mayr: A 505-345-5816 rmay@gmail.com 1989-04-20',\n",
       " 'Bell Kassulke: B 734-325-5816 bkassulke@umich.edu 1990/03/20',\n",
       " 'Jacqueline Rupp: A 734-851-2281 jrupp@fancy.org 1978-05-11',\n",
       " 'Alexander Zeller: C 853-395-1492 azller@samsung.co.kr 1985-10-30',\n",
       " 'Valentina Denk: C 492.333.1932 vdenk@weird-email.com 1993-01-02',\n",
       " 'Lola-Rose Coates: C 593*492*3212 lr-coates@something.net 1992-08-15']"
      ]
     },
     "execution_count": 73,
     "metadata": {},
     "output_type": "execute_result"
    }
   ],
   "source": [
    "pattern = \"\"\" (.+)    # Group 1\n",
    "              (?::\\s) # Non-captured group\n",
    "              (\\w)    # Group 2\n",
    "              (?:\\s)  # Non-captured group\n",
    "              (.+?)   # Group 3\n",
    "              (?:\\s)  # Non-captured group\n",
    "              (.+?)   # Group 4\n",
    "              (?:\\s)  # Non-captured group\n",
    "              (.+)    # Group 5\n",
    "          \"\"\"\n",
    "[match.group() for match in re.finditer(pattern,text,re.VERBOSE)]"
   ]
  },
  {
   "cell_type": "markdown",
   "metadata": {
    "slideshow": {
     "slide_type": "slide"
    }
   },
   "source": [
    "## Adding names to groups"
   ]
  },
  {
   "cell_type": "code",
   "execution_count": 77,
   "metadata": {
    "slideshow": {
     "slide_type": "-"
    }
   },
   "outputs": [
    {
     "data": {
      "text/plain": [
       "['1989-04-20',\n",
       " '1990/03/20',\n",
       " '1978-05-11',\n",
       " '1985-10-30',\n",
       " '1993-01-02',\n",
       " '1992-08-15']"
      ]
     },
     "execution_count": 77,
     "metadata": {},
     "output_type": "execute_result"
    }
   ],
   "source": [
    "pattern = \"\"\" (?P<fullname>.+)    # Group 1: Full name\n",
    "              (?::\\s)             # Non-captured group\n",
    "              (?P<grades>\\w)      # Group 2: Grades\n",
    "              (?:\\s)              # Non-captured group\n",
    "              (?P<phone>.+?)      # Group 3: Phone numbers\n",
    "              (?:\\s)              # Non-captured group\n",
    "              (?P<email>.+?)      # Group 4: Email\n",
    "              (?:\\s)              # Non-captured group\n",
    "              (?P<birthday>.+)    # Group 5: Birthday\n",
    "          \"\"\"\n",
    "# Reference group by names\n",
    "[match.group('birthday') for match in re.finditer(pattern,text,re.VERBOSE)]"
   ]
  },
  {
   "cell_type": "code",
   "execution_count": 79,
   "metadata": {
    "slideshow": {
     "slide_type": "fragment"
    }
   },
   "outputs": [
    {
     "data": {
      "text/plain": [
       "['1989-04-20',\n",
       " '1990/03/20',\n",
       " '1978-05-11',\n",
       " '1985-10-30',\n",
       " '1993-01-02',\n",
       " '1992-08-15']"
      ]
     },
     "execution_count": 79,
     "metadata": {},
     "output_type": "execute_result"
    }
   ],
   "source": [
    "# Reference group by group number\n",
    "[match.group(5) for match in re.finditer(pattern,text,re.VERBOSE)]"
   ]
  },
  {
   "cell_type": "markdown",
   "metadata": {
    "slideshow": {
     "slide_type": "slide"
    }
   },
   "source": [
    "**Extract info of all students who had a grade A**"
   ]
  },
  {
   "cell_type": "code",
   "execution_count": 80,
   "metadata": {},
   "outputs": [
    {
     "name": "stdout",
     "output_type": "stream",
     "text": [
      "Ronald Mayr: A 505-345-5816 rmay@gmail.com 1989-04-20\n",
      "Bell Kassulke: B 734-325-5816 bkassulke@umich.edu 1990/03/20\n",
      "Jacqueline Rupp: A 734-851-2281 jrupp@fancy.org 1978-05-11\n",
      "Alexander Zeller: C 853-395-1492 azller@samsung.co.kr 1985-10-30\n",
      "Valentina Denk: C 492.333.1932 vdenk@weird-email.com 1993-01-02\n",
      "Lola-Rose Coates: C 593*492*3212 lr-coates@something.net 1992-08-15\n"
     ]
    }
   ],
   "source": [
    "print(text)"
   ]
  },
  {
   "cell_type": "code",
   "execution_count": 84,
   "metadata": {},
   "outputs": [
    {
     "data": {
      "text/plain": [
       "['Ronald Mayr: A 505-345-5816 rmay@gmail.com 1989-04-20',\n",
       " 'Jacqueline Rupp: A 734-851-2281 jrupp@fancy.org 1978-05-11']"
      ]
     },
     "execution_count": 84,
     "metadata": {},
     "output_type": "execute_result"
    }
   ],
   "source": [
    "pattern = \"\"\" (?P<fullname>.+)    # Group 1: Full name\n",
    "              (?::\\s)             # Non-captured group\n",
    "              (?P<grades>[A])     # Group 2: Grades A only\n",
    "              (?:\\s)              # Non-captured group\n",
    "              (?P<phone>.+?)      # Group 3: Phone numbers\n",
    "              (?:\\s)              # Non-captured group\n",
    "              (?P<email>.+?)      # Group 4: Email\n",
    "              (?:\\s)              # Non-captured group\n",
    "              (?P<birthday>.+)    # Group 5: Birthday\n",
    "          \"\"\"\n",
    "[match.group() for match in re.finditer(pattern,text,re.VERBOSE)]"
   ]
  },
  {
   "cell_type": "markdown",
   "metadata": {
    "slideshow": {
     "slide_type": "slide"
    }
   },
   "source": [
    "**Extract info of all students who did not have a grade A**"
   ]
  },
  {
   "cell_type": "code",
   "execution_count": null,
   "metadata": {},
   "outputs": [],
   "source": [
    "print(text)"
   ]
  },
  {
   "cell_type": "code",
   "execution_count": 85,
   "metadata": {},
   "outputs": [
    {
     "data": {
      "text/plain": [
       "['Bell Kassulke: B 734-325-5816 bkassulke@umich.edu 1990/03/20',\n",
       " 'Alexander Zeller: C 853-395-1492 azller@samsung.co.kr 1985-10-30',\n",
       " 'Valentina Denk: C 492.333.1932 vdenk@weird-email.com 1993-01-02',\n",
       " 'Lola-Rose Coates: C 593*492*3212 lr-coates@something.net 1992-08-15']"
      ]
     },
     "execution_count": 85,
     "metadata": {},
     "output_type": "execute_result"
    }
   ],
   "source": [
    "pattern = \"\"\" (?P<fullname>.+)    # Group 1: Full name\n",
    "              (?::\\s)             # Non-captured group\n",
    "              (?P<grades>[^A])    # Group 2: Grades other than A\n",
    "              (?:\\s)              # Non-captured group\n",
    "              (?P<phone>.+?)      # Group 3: Phone numbers\n",
    "              (?:\\s)              # Non-captured group\n",
    "              (?P<email>.+?)      # Group 4: Email\n",
    "              (?:\\s)              # Non-captured group\n",
    "              (?P<birthday>.+)    # Group 5: Birthday\n",
    "          \"\"\"\n",
    "[match.group() for match in re.finditer(pattern,text,re.VERBOSE)]"
   ]
  },
  {
   "cell_type": "markdown",
   "metadata": {
    "slideshow": {
     "slide_type": "slide"
    }
   },
   "source": [
    "### replace string with regex\n",
    "\n",
    "re.sub(regex_search_term, regex_replacement, text_before)"
   ]
  },
  {
   "cell_type": "code",
   "execution_count": 86,
   "metadata": {},
   "outputs": [
    {
     "data": {
      "text/plain": [
       "'binini'"
      ]
     },
     "execution_count": 86,
     "metadata": {},
     "output_type": "execute_result"
    }
   ],
   "source": [
    "re.sub(r'a', 'i', 'banana')"
   ]
  },
  {
   "cell_type": "code",
   "execution_count": 87,
   "metadata": {},
   "outputs": [
    {
     "name": "stdout",
     "output_type": "stream",
     "text": [
      "Ronald Mayr: A 505-345-5816 rmay@gmail.com 1989-04-20\n",
      "Bell Kassulke: B 734-325-5816 bkassulke@umich.edu 1990/03/20\n",
      "Jacqueline Rupp: A 734-851-2281 jrupp@fancy.org 1978-05-11\n",
      "Alexander Zeller: C 853-395-1492 azller@samsung.co.kr 1985-10-30\n",
      "Valentina Denk: C 492.333.1932 vdenk@weird-email.com 1993-01-02\n",
      "Lola-Rose Coates: C 593*492*3212 lr-coates@something.net 1992-08-15\n"
     ]
    }
   ],
   "source": [
    "print(text)"
   ]
  },
  {
   "cell_type": "code",
   "execution_count": 88,
   "metadata": {},
   "outputs": [
    {
     "name": "stdout",
     "output_type": "stream",
     "text": [
      "Ronald Mayr: A 505-345-5816 rmay@gmail.com 1989-04-20\n",
      "Bell Kassulke: B 734-325-5816 bkassulke@umich.edu 1990/03/20\n",
      "Jacqueline Rupp: A 734-851-2281 jrupp@fancy.org 1978-05-11\n",
      "Alexander Zeller: C 853-395-1492 azller@samsung.co.kr 1985-10-30\n",
      "Valentina Denk: C 492-333-1932 vdenk@weird-email.com 1993-01-02\n",
      "Lola-Rose Coates: C 593-492-3212 lr-coates@something.net 1992-08-15\n"
     ]
    }
   ],
   "source": [
    "# replace .* between phone numbers with -\n",
    "print(\n",
    "    re.sub(r'(?<=\\d{3})[.*]','-',text)\n",
    ")"
   ]
  },
  {
   "cell_type": "code",
   "execution_count": 41,
   "metadata": {},
   "outputs": [
    {
     "name": "stdout",
     "output_type": "stream",
     "text": [
      "505-345-5816 rmay@gmail.com 1989-04-20 Ronald Mayr A\n",
      "734-325-5816 bkassulke@umich.edu 1990/03/20 Bell Kassulke B\n",
      "734-851-2281 jrupp@fancy.org 1978-05-11 Jacqueline Rupp A\n",
      "853-395-1492 azller@samsung.co.kr 1985-10-30 Alexander Zeller C\n",
      "492.333.1932 vdenk@weird-email.com 1993-01-02 Valentina Denk C\n",
      "593*492*3212 lr-coates@something.net 1992-08-15 Lola-Rose Coates C\n"
     ]
    }
   ],
   "source": [
    "patterngroup = re.compile(r\"\"\" \n",
    "              (?P<fullname>.+)    # Group 1: Full name\n",
    "              (?::\\s)             # Non-captured group\n",
    "              (?P<grades>\\w)      # Group 2: Grades\n",
    "              (?:\\s)              # Non-captured group\n",
    "              (?P<phone>.+?)      # Group 3: Phone numbers\n",
    "              (?:\\s)              # Non-captured group\n",
    "              (?P<email>.+?)      # Group 4: Email\n",
    "              (?:\\s)              # Non-captured group\n",
    "              (?P<birthday>.+)    # Group 5: Birthday\n",
    "              \"\"\", re.VERBOSE)\n",
    "print(\n",
    "    re.sub(patterngroup,r'\\3 \\4 \\5 \\1 \\2',text)\n",
    ")"
   ]
  },
  {
   "cell_type": "markdown",
   "metadata": {
    "slideshow": {
     "slide_type": "slide"
    }
   },
   "source": [
    "### finditer vs findall\n",
    "* **finditer** returns an iterator yielding match objects over all non-overlapping matches for the RE pattern in string. \n",
    "* **findall** returns all non-overlapping matches of pattern in string, as a list of strings."
   ]
  },
  {
   "cell_type": "code",
   "execution_count": 89,
   "metadata": {},
   "outputs": [
    {
     "name": "stdout",
     "output_type": "stream",
     "text": [
      "<re.Match object; span=(54, 114), match='Bell Kassulke: B 734-325-5816 bkassulke@umich.edu>\n",
      "<re.Match object; span=(174, 238), match='Alexander Zeller: C 853-395-1492 azller@samsung.c>\n",
      "<re.Match object; span=(239, 302), match='Valentina Denk: C 492.333.1932 vdenk@weird-email.>\n",
      "<re.Match object; span=(303, 370), match='Lola-Rose Coates: C 593*492*3212 lr-coates@someth>\n"
     ]
    }
   ],
   "source": [
    "for match in re.finditer(pattern,text,re.VERBOSE):\n",
    "    print(match) \n",
    "#   print(match.groups())"
   ]
  },
  {
   "cell_type": "code",
   "execution_count": 90,
   "metadata": {},
   "outputs": [
    {
     "name": "stdout",
     "output_type": "stream",
     "text": [
      "('Bell Kassulke', 'B', '734-325-5816', 'bkassulke@umich.edu', '1990/03/20')\n",
      "('Alexander Zeller', 'C', '853-395-1492', 'azller@samsung.co.kr', '1985-10-30')\n",
      "('Valentina Denk', 'C', '492.333.1932', 'vdenk@weird-email.com', '1993-01-02')\n",
      "('Lola-Rose Coates', 'C', '593*492*3212', 'lr-coates@something.net', '1992-08-15')\n"
     ]
    }
   ],
   "source": [
    "for match in re.findall(pattern,text,re.VERBOSE):\n",
    "    print(match)"
   ]
  },
  {
   "cell_type": "markdown",
   "metadata": {
    "slideshow": {
     "slide_type": "slide"
    }
   },
   "source": [
    "That's all for today\n",
    "\n",
    "Let me know if there's any topic that you would like me to cover in the future\n",
    "\n",
    "Here's a random cat picture\n",
    "\n",
    "Have a good weekend!"
   ]
  },
  {
   "cell_type": "markdown",
   "metadata": {
    "slideshow": {
     "slide_type": "-"
    }
   },
   "source": [
    " <img src=\"https://i.redd.it/sqzq85xlo1a61.jpg\" alt=\"Drawing\" style=\"width: 400px;\" align=\"left\"/><br> "
   ]
  }
 ],
 "metadata": {
  "celltoolbar": "Slideshow",
  "kernelspec": {
   "display_name": "Python 3",
   "language": "python",
   "name": "python3"
  },
  "language_info": {
   "codemirror_mode": {
    "name": "ipython",
    "version": 3
   },
   "file_extension": ".py",
   "mimetype": "text/x-python",
   "name": "python",
   "nbconvert_exporter": "python",
   "pygments_lexer": "ipython3",
   "version": "3.7.3"
  }
 },
 "nbformat": 4,
 "nbformat_minor": 2
}
